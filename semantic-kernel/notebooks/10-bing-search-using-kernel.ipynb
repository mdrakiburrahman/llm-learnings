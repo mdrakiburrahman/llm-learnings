{
 "cells": [
  {
   "attachments": {},
   "cell_type": "markdown",
   "metadata": {},
   "source": [
    "# BingSearch using Kernel \n",
    "\n",
    "This notebook explains how to integrate Bing Search with the Semantic Kernel  to get the latest information from the internet.\n",
    "\n",
    "To use Bing Search you simply need a Bing Search API key. You can get the API key by creating a [Bing Search resource](https://learn.microsoft.com/en-us/bing/search-apis/bing-web-search/create-bing-search-service-resource) in Azure. \n",
    "\n",
    "To learn more read the following [documentation](https://learn.microsoft.com/en-us/bing/search-apis/bing-web-search/overview).\n",
    "\n",
    "Deploy Bing Search (not `Bing Custom Search`, just `Bing Search` - it's weird and confusing) with [this tutorial](https://learn.microsoft.com/en-us/bing/search-apis/bing-web-search/create-bing-search-service-resource#create-your-bing-resource).\n"
   ]
  },
  {
   "attachments": {},
   "cell_type": "markdown",
   "metadata": {},
   "source": [
    "Prepare a Semantic Kernel instance first, loading also the AI backend settings defined in the [Setup notebook](0-AI-settings.ipynb):"
   ]
  },
  {
   "cell_type": "code",
   "execution_count": 1,
   "metadata": {
    "dotnet_interactive": {
     "language": "csharp"
    },
    "polyglot_notebook": {
     "kernelName": "csharp"
    }
   },
   "outputs": [
    {
     "data": {
      "text/html": [
       "<div><div></div><div></div><div><strong>Installed Packages</strong><ul><li><span>Microsoft.SemanticKernel, 1.0.1</span></li><li><span>Microsoft.SemanticKernel.Plugins.Core, 1.0.1-alpha</span></li><li><span>Microsoft.SemanticKernel.Plugins.Web, 1.0.1-alpha</span></li></ul></div></div>"
      ]
     },
     "metadata": {},
     "output_type": "display_data"
    }
   ],
   "source": [
    "#r \"nuget: Microsoft.SemanticKernel, 1.0.1\"\n",
    "#r \"nuget: Microsoft.SemanticKernel.Plugins.Web, 1.0.1-alpha\"\n",
    "#r \"nuget: Microsoft.SemanticKernel.Plugins.Core, 1.0.1-alpha\"\n",
    "\n",
    "#!import config/Settings.cs\n",
    "#!import config/Utils.cs\n",
    "\n",
    "using Microsoft.SemanticKernel;\n",
    "using Microsoft.SemanticKernel.Plugins.Core;\n",
    "using Microsoft.SemanticKernel.TemplateEngine;\n",
    "using InteractiveKernel = Microsoft.DotNet.Interactive.Kernel;\n",
    "using Kernel = Microsoft.SemanticKernel.Kernel;\n",
    "\n",
    "var builder = Kernel.CreateBuilder();\n",
    "\n",
    "// Configure AI backend used by the kernel\n",
    "var (useAzureOpenAI, model, azureEndpoint, apiKey, orgId) = Settings.LoadFromFile();\n",
    "\n",
    "if (useAzureOpenAI)\n",
    "    builder.AddAzureOpenAIChatCompletion(model, azureEndpoint, apiKey);\n",
    "else\n",
    "    builder.AddOpenAIChatCompletion(model, apiKey, orgId);\n",
    "\n",
    "var kernel = builder.Build();"
   ]
  },
  {
   "attachments": {},
   "cell_type": "markdown",
   "metadata": {},
   "source": [
    "Add the following namespaces to use the Bing Search connector."
   ]
  },
  {
   "cell_type": "code",
   "execution_count": 2,
   "metadata": {
    "dotnet_interactive": {
     "language": "csharp"
    },
    "polyglot_notebook": {
     "kernelName": "csharp"
    }
   },
   "outputs": [],
   "source": [
    "using Microsoft.SemanticKernel.Plugins.Web;\n",
    "using Microsoft.SemanticKernel.Plugins.Web.Bing;"
   ]
  },
  {
   "attachments": {},
   "cell_type": "markdown",
   "metadata": {},
   "source": [
    "Enter your Bing Search Key in BING_KEY using `InteractiveKernel` method as introduced in [`.NET Interactive`](https://github.com/dotnet/interactive/blob/main/docs/kernels-overview.md)"
   ]
  },
  {
   "cell_type": "code",
   "execution_count": 3,
   "metadata": {
    "dotnet_interactive": {
     "language": "csharp"
    },
    "polyglot_notebook": {
     "kernelName": "csharp"
    }
   },
   "outputs": [],
   "source": [
    "using InteractiveKernel = Microsoft.DotNet.Interactive.Kernel;\n",
    "\n",
    "string BING_KEY = (await InteractiveKernel.GetPasswordAsync(\"Please enter your Bing Search Key\")).GetClearTextPassword();"
   ]
  },
  {
   "attachments": {},
   "cell_type": "markdown",
   "metadata": {},
   "source": [
    "Below are some examples on how [`WebSearchEnginePlugin`](../src/Plugins/Plugins.Web/WebSearchEnginePlugin.cs) can be used in SK. "
   ]
  },
  {
   "cell_type": "code",
   "execution_count": 4,
   "metadata": {
    "dotnet_interactive": {
     "language": "csharp"
    },
    "polyglot_notebook": {
     "kernelName": "csharp"
    }
   },
   "outputs": [],
   "source": [
    "private static async Task Example1Async(Microsoft.SemanticKernel.Kernel kernel)\n",
    "{\n",
    "        Console.WriteLine(\"Example 1\");\n",
    "\n",
    "        // Run \n",
    "        var question = \"What is quantum tunnelling\";\n",
    "        var function = kernel.Plugins[\"bing\"][\"search\"];\n",
    "        var bingResult = await kernel.InvokeAsync(function, new() { [\"query\"] = question });\n",
    "\n",
    "        Console.WriteLine(question);\n",
    "        Console.WriteLine(\"----\");\n",
    "        Console.WriteLine(bingResult);\n",
    "        Console.WriteLine();\n",
    "\n",
    "        /* OUTPUT:\n",
    "\n",
    "            What is quantum tunnelling\n",
    "            ----\n",
    "            In physics, quantum tunnelling, barrier penetration, or simply tunnelling is a quantum mechanical\n",
    "            phenomenon in which an object such as an electron or atom passes through a potential energy \n",
    "            barrier that, according to classical mechanics, the object does not have sufficient energy to\n",
    "            enter or surmount.\n",
    "            \n",
    "       */\n",
    "}"
   ]
  },
  {
   "cell_type": "code",
   "execution_count": 5,
   "metadata": {
    "dotnet_interactive": {
     "language": "csharp"
    },
    "polyglot_notebook": {
     "kernelName": "csharp"
    }
   },
   "outputs": [],
   "source": [
    "private static async Task Example2Async(Microsoft.SemanticKernel.Kernel kernel)\n",
    "{\n",
    "    Console.WriteLine(\"Example 2\");\n",
    "\n",
    "    //The following function only works in interactive notebooks\n",
    "    string question = await InteractiveKernel.GetInputAsync(\"Please ask your question\"); \n",
    "\n",
    "    var function = kernel.Plugins[\"bing\"][\"search\"];\n",
    "    var bingResult = await kernel.InvokeAsync(function, new() { [\"query\"] = question });\n",
    "\n",
    "    Console.WriteLine(bingResult);\n",
    "}"
   ]
  },
  {
   "cell_type": "code",
   "execution_count": 6,
   "metadata": {
    "dotnet_interactive": {
     "language": "csharp"
    },
    "polyglot_notebook": {
     "kernelName": "csharp"
    }
   },
   "outputs": [],
   "source": [
    "#pragma warning disable SKEXP0054\n",
    "\n",
    "// Load Bing plugin\n",
    "var bingConnector = new BingConnector(BING_KEY);\n",
    "\n",
    "#pragma warning disable SKEXP0054\n",
    "kernel.ImportPluginFromObject(new WebSearchEnginePlugin(bingConnector), \"bing\");"
   ]
  },
  {
   "cell_type": "code",
   "execution_count": 7,
   "metadata": {
    "dotnet_interactive": {
     "language": "csharp"
    },
    "polyglot_notebook": {
     "kernelName": "csharp"
    }
   },
   "outputs": [
    {
     "name": "stdout",
     "output_type": "stream",
     "text": [
      "Example 1\n",
      "What is quantum tunnelling\n",
      "----\n",
      "[\"In physics, quantum tunnelling, barrier penetration, or simply tunnelling is a quantum mechanical phenomenon in which an object such as an electron or atom passes through a potential energy barrier that, according to classical mechanics, the object does not have sufficient energy to enter or surmount.\",\"Quantum tunneling is a phenomenon where an electron is able to phase through a barrier and move to the other side. It is a quantum phenomenon that occurs when particles move through a barrier that, according to the theories of classical physics, should be impossible to pass through.\",\"Quantum tunneling is the nonzero probability that a particle can be measured in a state that is forbidden in classical mechanics. It occurs because there is a solution to the Schr\\u00F6dinger equation in a classically forbidden region, which corresponds to the exponential decay of the wavefunction. Learn how to calculate tunneling of an electron wavefunction through a potential barrier in one dimension and see examples of applications in physics.\",\"Quantum tunneling is a phenomenon in which particles penetrate a potential energy barrier with a height greater than the total energy of the particles. The phenomenon is interesting and important because it violates the principles of classical mechanics. Quantum tunneling is important in models of the Sun and has a wide range of applications ...\",\"What is quantum tunnelling? Imagine releasing a quantum mechanical particle, like an electron or proton, into a space on one side of an potential energy hill. Since you\\u2019re sure that the particle ...\",\"Quantum tunneling is a phenomenon in which particles penetrate a potential energy barrier with a height greater than the total energy of the particles. The phenomenon is interesting and important because it violates the principles of classical mechanics. Quantum tunneling is important in models of the Sun and has a wide range of applications, such as the scanning tunneling microscope and the ...\",\"Quantum tunnelling is a part of the theoretical branch of physics known as quantum mechanics. It states that electrons can behave like both particles and waves, and can cancel the effects of an energy barrier if the energy barrier is thin enough, due to quantum mechanics being dependent on probability.\",\"What is Quantum Tunneling, Exactly? Up and Atom 684K subscribers Subscribe Subscribed 462K views 5 years ago Quantum Physics Sign up to brilliant.org to receive a 20% discount with this link!...\"]\n",
      "\n"
     ]
    }
   ],
   "source": [
    "await Example1Async(kernel);"
   ]
  },
  {
   "cell_type": "code",
   "execution_count": 12,
   "metadata": {
    "dotnet_interactive": {
     "language": "csharp"
    },
    "polyglot_notebook": {
     "kernelName": "csharp"
    }
   },
   "outputs": [
    {
     "name": "stdout",
     "output_type": "stream",
     "text": [
      "Example 2\n",
      "[\"Microsoft What is Microsoft Copilot? Here\\u2019s everything it can do By Alyse Stanley published 23 September 2023 Microsoft\\u0027s Copilot AI assistant will roll out to Windows 11 soon Comments (0)...\",\"Copilot is the bread and butter of Microsoft\\u0027s AI offerings, and it builds off of GPT-4 really well, while also adding access to the internet\\u2014which ensures that Copilot can always provide the...\",\"A copilot is a pilot who assists or relieves the pilot but is not in command of a flight of an aircraft or spacecraft. Learn the origin, usage, and synonyms of this word from the Merriam-Webster dictionary.\",\"Copilot in Word will write, edit, summarize, give suggestions, and create right alongside you. Create first drafts, add content to existing documents, summarize text, and rewrite sections\\u2014or even entire documents\\u2014to make them more concise.\",\"Microsoft Copilots are the tech giant\\u0027s artificial intelligence (AI) companions that can complete different tasks for different purposes. Learn about the features, benefits, and availability of Copilots for Windows, Microsoft 365, Sales, Service, and more.\",\"1. Open Taskbar Settings and disable the Copilot button (Image: \\u00A9 Future) Once you have Copilot, you can\\u0027t really get rid of it without a lot of extra hassle. But if you\\u0027re tired of looking at...\",\"Copilot will uniquely incorporate the context and intelligence of the web, your work data and what you are doing in the moment on your PC to provide better assistance \\u2013 with your privacy and security at the forefront. It will be a simple and seamless experience, available in Windows 11, Microsoft 365, and in our web browser with Edge and Bing.\",\"Copilot has been built to \\u0022enhance your creativity and productivity,\\u0022 Microsoft says, and it works in a similar way to Bing\\u0027s chatbot\\u2014capable of coming up with everything from travel advice to ...\"]\n"
     ]
    }
   ],
   "source": [
    "await Example2Async(kernel);"
   ]
  }
 ],
 "metadata": {
  "kernelspec": {
   "display_name": ".NET (C#)",
   "language": "C#",
   "name": ".net-csharp"
  },
  "language_info": {
   "name": "polyglot-notebook"
  },
  "orig_nbformat": 4,
  "polyglot_notebook": {
   "kernelInfo": {
    "defaultKernelName": "csharp",
    "items": [
     {
      "aliases": [],
      "name": "csharp"
     }
    ]
   }
  }
 },
 "nbformat": 4,
 "nbformat_minor": 2
}
