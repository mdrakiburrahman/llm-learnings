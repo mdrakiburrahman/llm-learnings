{
 "cells": [
  {
   "cell_type": "markdown",
   "metadata": {},
   "source": [
    "# .NET 8 SDK\n",
    "\n",
    "```powershell\n",
    "choco install dotnet-sdk\n",
    "```\n",
    "\n",
    "![Install](https://arcdataciadomisc.blob.core.windows.net/media/Misc/dotnet-sdk.png)"
   ]
  },
  {
   "cell_type": "markdown",
   "metadata": {},
   "source": [
    "# Polyglot extension\n",
    "\n",
    "![Install](https://arcdataciadomisc.blob.core.windows.net/media/Misc/polyglot-notebook.png)"
   ]
  }
 ],
 "metadata": {
  "language_info": {
   "name": "python"
  }
 },
 "nbformat": 4,
 "nbformat_minor": 2
}
